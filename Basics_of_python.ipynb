{
  "nbformat": 4,
  "nbformat_minor": 0,
  "metadata": {
    "colab": {
      "provenance": []
    },
    "kernelspec": {
      "name": "python3",
      "display_name": "Python 3"
    },
    "language_info": {
      "name": "python"
    }
  },
  "cells": [
    {
      "cell_type": "markdown",
      "source": [
        "Exercise 1:\n",
        "A Python program to check if a given number is prime:"
      ],
      "metadata": {
        "id": "-OEQOwRkPGBQ"
      }
    },
    {
      "cell_type": "code",
      "execution_count": 6,
      "metadata": {
        "colab": {
          "base_uri": "https://localhost:8080/"
        },
        "id": "RH6L3_ceMwoL",
        "outputId": "ce3b8981-73de-4c0e-aa7e-e0b34c3e043a"
      },
      "outputs": [
        {
          "output_type": "stream",
          "name": "stdout",
          "text": [
            "Enter a number: 29\n",
            "29 is a prime number.\n"
          ]
        }
      ],
      "source": [
        "def is_prime(n):\n",
        "    # Check if n is less than or equal to 1 (not prime)\n",
        "    if n <= 1:\n",
        "        return False\n",
        "\n",
        "    # Check if n is 2 or 3 (both are prime numbers)\n",
        "    if n <= 3:\n",
        "        return True\n",
        "\n",
        "    # Eliminate multiples of 2 and 3 quickly\n",
        "    if n % 2 == 0 or n % 3 == 0:\n",
        "        return False\n",
        "\n",
        "    # Check for divisibility from 5 to sqrt(n)\n",
        "    i = 5\n",
        "    while i * i <= n:\n",
        "        if n % i == 0 or n % (i + 2) == 0:  # Check i and i+2 to skip even numbers\n",
        "            return False\n",
        "        i += 6  # Increment by 6 (i and i+2 are the potential factors)\n",
        "\n",
        "    return True\n",
        "\n",
        "# Test the function\n",
        "num = int(input(\"Enter a number: \"))\n",
        "if is_prime(num):\n",
        "    print(f\"{num} is a prime number.\")\n",
        "else:\n",
        "    print(f\"{num} is not a prime number.\")"
      ]
    },
    {
      "cell_type": "markdown",
      "source": [
        "Exercise 2:\n",
        "A Python program that generates two random numbers, asks the user to calculate their product, and then checks if the user's answer is correct:\n",
        "\n"
      ],
      "metadata": {
        "id": "3mpZcQyIPEVJ"
      }
    },
    {
      "cell_type": "code",
      "source": [
        "import random\n",
        "\n",
        "def ask_for_product():\n",
        "    # Generate two random numbers between 1 and 10\n",
        "    num1 = random.randint(1, 10)\n",
        "    num2 = random.randint(1, 10)\n",
        "\n",
        "    # Calculate the correct product\n",
        "    correct_product = num1 * num2\n",
        "\n",
        "    # Ask the user for the product\n",
        "    print(f\"What is the product of {num1} and {num2}?\")\n",
        "    user_answer = int(input(\"Your answer: \"))\n",
        "\n",
        "    # Check if the user's answer is correct\n",
        "    if user_answer == correct_product:\n",
        "        print(\"Correct! Well done.\")\n",
        "    else:\n",
        "        print(f\"Incorrect. The correct answer is {correct_product}.\")\n",
        "\n",
        "# Run the function\n",
        "ask_for_product()\n"
      ],
      "metadata": {
        "colab": {
          "base_uri": "https://localhost:8080/"
        },
        "id": "DdK0ChBBN50A",
        "outputId": "28ebeb59-9ce6-4f90-dec3-192358fee16b"
      },
      "execution_count": 7,
      "outputs": [
        {
          "output_type": "stream",
          "name": "stdout",
          "text": [
            "What is the product of 8 and 9?\n",
            "Your answer: 68\n",
            "Incorrect. The correct answer is 72.\n"
          ]
        }
      ]
    },
    {
      "cell_type": "markdown",
      "source": [
        "Exercise 3:\n",
        "Python script that prints the squares of even numbers within the range of 100 to 200. The choice of even numbers is documented in the code."
      ],
      "metadata": {
        "id": "BGd-3KsoPzJu"
      }
    },
    {
      "cell_type": "code",
      "source": [
        "# Choice: We will calculate the squares of even numbers.\n",
        "# Even numbers are divisible by 2.\n",
        "\n",
        "for num in range(100, 201):\n",
        "    if num % 2 == 0:  # Check if the number is even\n",
        "        print(f\"The square of {num} is {num ** 2}\")"
      ],
      "metadata": {
        "colab": {
          "base_uri": "https://localhost:8080/"
        },
        "id": "fYqf4wn4QBz0",
        "outputId": "bca2c3d4-ba3f-42ec-8d0f-62e266141da3"
      },
      "execution_count": 8,
      "outputs": [
        {
          "output_type": "stream",
          "name": "stdout",
          "text": [
            "The square of 100 is 10000\n",
            "The square of 102 is 10404\n",
            "The square of 104 is 10816\n",
            "The square of 106 is 11236\n",
            "The square of 108 is 11664\n",
            "The square of 110 is 12100\n",
            "The square of 112 is 12544\n",
            "The square of 114 is 12996\n",
            "The square of 116 is 13456\n",
            "The square of 118 is 13924\n",
            "The square of 120 is 14400\n",
            "The square of 122 is 14884\n",
            "The square of 124 is 15376\n",
            "The square of 126 is 15876\n",
            "The square of 128 is 16384\n",
            "The square of 130 is 16900\n",
            "The square of 132 is 17424\n",
            "The square of 134 is 17956\n",
            "The square of 136 is 18496\n",
            "The square of 138 is 19044\n",
            "The square of 140 is 19600\n",
            "The square of 142 is 20164\n",
            "The square of 144 is 20736\n",
            "The square of 146 is 21316\n",
            "The square of 148 is 21904\n",
            "The square of 150 is 22500\n",
            "The square of 152 is 23104\n",
            "The square of 154 is 23716\n",
            "The square of 156 is 24336\n",
            "The square of 158 is 24964\n",
            "The square of 160 is 25600\n",
            "The square of 162 is 26244\n",
            "The square of 164 is 26896\n",
            "The square of 166 is 27556\n",
            "The square of 168 is 28224\n",
            "The square of 170 is 28900\n",
            "The square of 172 is 29584\n",
            "The square of 174 is 30276\n",
            "The square of 176 is 30976\n",
            "The square of 178 is 31684\n",
            "The square of 180 is 32400\n",
            "The square of 182 is 33124\n",
            "The square of 184 is 33856\n",
            "The square of 186 is 34596\n",
            "The square of 188 is 35344\n",
            "The square of 190 is 36100\n",
            "The square of 192 is 36864\n",
            "The square of 194 is 37636\n",
            "The square of 196 is 38416\n",
            "The square of 198 is 39204\n",
            "The square of 200 is 40000\n"
          ]
        }
      ]
    },
    {
      "cell_type": "markdown",
      "source": [
        "Document the choice: The script calculates the squares of even numbers because the condition num % 2 == 0 selects only even numbers from the specified range."
      ],
      "metadata": {
        "id": "eITwxMV0RgtH"
      }
    },
    {
      "cell_type": "markdown",
      "source": [
        "Exercise 4:\n",
        "A Python program that counts the frequency of each word in a given text:"
      ],
      "metadata": {
        "id": "iWxoWmaDSWqJ"
      }
    },
    {
      "cell_type": "code",
      "source": [
        "import string\n",
        "\n",
        "def word_counter(input_text):\n",
        "    # Convert text to lowercase to make counting case-insensitive\n",
        "    input_text = input_text.lower()\n",
        "\n",
        "    # Remove punctuation from the text\n",
        "    translator = str.maketrans('', '', string.punctuation)\n",
        "    cleaned_text = input_text.translate(translator)\n",
        "\n",
        "    # Split the cleaned text into words\n",
        "    words = cleaned_text.split()\n",
        "\n",
        "    # Create a dictionary to store the word count\n",
        "    word_count = {}\n",
        "\n",
        "    # Count the occurrences of each word\n",
        "    for word in words:\n",
        "        if word in word_count:\n",
        "            word_count[word] += 1\n",
        "        else:\n",
        "            word_count[word] = 1\n",
        "\n",
        "    # Print the word counts\n",
        "    for word, count in word_count.items():\n",
        "        print(f\"'{word}': {count}\")\n",
        "\n",
        "# Example input\n",
        "input_text = \"This is a sample text. This text will be used to demonstrate the word counter.\"\n",
        "word_counter(input_text)"
      ],
      "metadata": {
        "colab": {
          "base_uri": "https://localhost:8080/"
        },
        "id": "JFU5K3F-SfQj",
        "outputId": "80e9378f-69af-44bd-8a81-2f255fe517f5"
      },
      "execution_count": 9,
      "outputs": [
        {
          "output_type": "stream",
          "name": "stdout",
          "text": [
            "'this': 2\n",
            "'is': 1\n",
            "'a': 1\n",
            "'sample': 1\n",
            "'text': 2\n",
            "'will': 1\n",
            "'be': 1\n",
            "'used': 1\n",
            "'to': 1\n",
            "'demonstrate': 1\n",
            "'the': 1\n",
            "'word': 1\n",
            "'counter': 1\n"
          ]
        }
      ]
    },
    {
      "cell_type": "markdown",
      "source": [
        "Exercise 5:\n",
        "A Python function that checks if a given string is a palindrome:"
      ],
      "metadata": {
        "id": "4X0clCeWTjls"
      }
    },
    {
      "cell_type": "code",
      "source": [
        "import string\n",
        "\n",
        "def is_palindrome(input_string):\n",
        "    # Remove spaces and punctuation, and convert to lowercase\n",
        "    input_string = input_string.lower()\n",
        "    translator = str.maketrans('', '', string.punctuation + ' ')  # Remove punctuation and spaces\n",
        "    cleaned_string = input_string.translate(translator)\n",
        "\n",
        "    # Check if the string is equal to its reverse\n",
        "    return cleaned_string == cleaned_string[::-1]\n",
        "\n",
        "# Example input\n",
        "input_string = \"racecar\"\n",
        "if is_palindrome(input_string):\n",
        "    print(\"True\")\n",
        "else:\n",
        "    print(\"False\")"
      ],
      "metadata": {
        "colab": {
          "base_uri": "https://localhost:8080/"
        },
        "id": "cRqxpQuUTqqJ",
        "outputId": "b33bdfbc-8c3d-499c-9786-6000a79b6a52"
      },
      "execution_count": 10,
      "outputs": [
        {
          "output_type": "stream",
          "name": "stdout",
          "text": [
            "True\n"
          ]
        }
      ]
    }
  ]
}